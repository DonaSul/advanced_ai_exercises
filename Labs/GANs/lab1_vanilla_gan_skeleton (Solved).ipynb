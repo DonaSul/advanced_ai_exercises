{
  "cells": [
    {
      "cell_type": "markdown",
      "metadata": {
        "id": "pAlI0DScONuk"
      },
      "source": [
        "# Lab 1: Vanilla GAN (Goodfellow) — Skeleton"
      ],
      "id": "pAlI0DScONuk"
    },
    {
      "cell_type": "code",
      "metadata": {
        "colab": {
          "base_uri": "https://localhost:8080/"
        },
        "id": "LO1_62e2ONun",
        "outputId": "9df05b6c-6b40-4697-d22e-fa1acb4448dc"
      },
      "execution_count": 1,
      "outputs": [
        {
          "output_type": "stream",
          "name": "stderr",
          "text": [
            "100%|██████████| 9.91M/9.91M [00:01<00:00, 5.07MB/s]\n",
            "100%|██████████| 28.9k/28.9k [00:00<00:00, 132kB/s]\n",
            "100%|██████████| 1.65M/1.65M [00:01<00:00, 1.27MB/s]\n",
            "100%|██████████| 4.54k/4.54k [00:00<00:00, 10.5MB/s]\n"
          ]
        }
      ],
      "source": [
        "import torch, torchvision, torch.nn as nn\n",
        "from torch.utils.data import DataLoader\n",
        "from torchvision import transforms\n",
        "from torchvision.utils import make_grid\n",
        "import math\n",
        "\n",
        "device=torch.device('cuda' if torch.cuda.is_available() else 'cpu')\n",
        "batch_size=128; z_dim=64; g_lr=d_lr=2e-4; num_epochs=3\n",
        "transform=transforms.Compose([transforms.ToTensor(), transforms.Normalize((0.5,), (0.5,))])\n",
        "train_ds=torchvision.datasets.MNIST('./data',True,download=True,transform=transform)\n",
        "train_loader=DataLoader(train_ds,batch_size=batch_size,shuffle=True,num_workers=2,pin_memory=True)"
      ],
      "id": "LO1_62e2ONun"
    },
    {
      "cell_type": "code",
      "source": [
        "import matplotlib.pyplot as plt\n",
        "\n",
        "real_images, _ = next(iter(train_loader))\n",
        "\n",
        "image_grid = make_grid(real_images[:16], nrow=4, normalize=True, value_range=(-1, 1))\n",
        "\n",
        "plt.figure(figsize=(8, 8))\n",
        "plt.imshow(image_grid.permute(1, 2, 0))\n",
        "plt.axis('off')\n",
        "plt.title('Sample Real Images')\n",
        "plt.show()"
      ],
      "metadata": {
        "colab": {
          "base_uri": "https://localhost:8080/",
          "height": 675
        },
        "id": "sWoXyxxqPIJq",
        "outputId": "1d8f747b-cbe0-40ba-ff60-70d229d56467"
      },
      "id": "sWoXyxxqPIJq",
      "execution_count": 2,
      "outputs": [
        {
          "output_type": "display_data",
          "data": {
            "text/plain": [
              "<Figure size 800x800 with 1 Axes>"
            ],
            "image/png": "[encoded data removed]"
          },
          "metadata": {}
        }
      ]
    },
    {
      "cell_type": "code",
      "metadata": {
        "id": "EyzvopnKONuq"
      },
      "execution_count": 3,
      "outputs": [],
      "source": [
        "class Generator(nn.Module):\n",
        "    def __init__(self,z_dim=64):\n",
        "        super().__init__()\n",
        "        # TODO: implement upsampling to 28x28 + Tanh\n",
        "        self.net = nn.Sequential(\n",
        "            nn.ConvTranspose2d(z_dim, 128, 7, 1, 0, bias=False),\n",
        "            nn.BatchNorm2d(128),\n",
        "            nn.ReLU(True),\n",
        "\n",
        "            nn.ConvTranspose2d(128, 64, 4, 2, 1, bias=False),\n",
        "            nn.BatchNorm2d(64),\n",
        "            nn.ReLU(True),\n",
        "\n",
        "            nn.ConvTranspose2d(64, 1, 4, 2, 1, bias=False),\n",
        "            nn.Tanh()\n",
        "        )\n",
        "\n",
        "    def forward(self, z):\n",
        "        return self.net(z)\n",
        "        raise NotImplementedError()\n",
        "\n",
        "\n",
        "\n",
        "class Discriminator(nn.Module):\n",
        "    def __init__(self):\n",
        "        super().__init__()\n",
        "        # TODO: downsample to 1 logit (no Sigmoid)\n",
        "        self.net = nn.Sequential(\n",
        "            nn.Conv2d(1, 64, 4, 2, 1, bias=False),   # (B,64,14,14)\n",
        "            nn.LeakyReLU(0.2, inplace=True),\n",
        "\n",
        "            nn.Conv2d(64, 128, 4, 2, 1, bias=False), # (B,128,7,7)\n",
        "            nn.BatchNorm2d(128),\n",
        "            nn.LeakyReLU(0.2, inplace=True),\n",
        "\n",
        "            nn.Flatten(),\n",
        "            nn.Linear(128*7*7, 1)\n",
        "        )\n",
        "\n",
        "    def forward(self, x):\n",
        "        return self.net(x)\n",
        ""
      ],
      "id": "EyzvopnKONuq"
    },
    {
      "cell_type": "code",
      "metadata": {
        "id": "nSWArtKzONur"
      },
      "execution_count": 4,
      "outputs": [],
      "source": [
        "criterion=nn.BCEWithLogitsLoss()\n",
        "G=Generator(z_dim).to(device); D=Discriminator().to(device)\n",
        "opt_g=torch.optim.Adam(G.parameters(),lr=g_lr,betas=(0.5,0.999))\n",
        "opt_d=torch.optim.Adam(D.parameters(),lr=d_lr,betas=(0.5,0.999))"
      ],
      "id": "nSWArtKzONur"
    },
    {
      "cell_type": "code",
      "metadata": {
        "id": "a14GaZPqONus"
      },
      "execution_count": 5,
      "outputs": [],
      "source": [
        "@torch.no_grad()\n",
        "def sample_grid(G,n=16):\n",
        "    z=torch.randn(n,64,device=device).view(n,64,1,1)\n",
        "    fake=G(z).cpu()\n",
        "    return make_grid(fake,nrow=int(math.sqrt(n)),normalize=True,value_range=(-1,1))"
      ],
      "id": "a14GaZPqONus"
    },
    {
      "cell_type": "code",
      "metadata": {
        "id": "TgQVI_LBONus"
      },
      "execution_count": 6,
      "outputs": [],
      "source": [
        "def train_discriminator_step(real):\n",
        "    # TODO: Goodfellow D loss with detach on fake\n",
        "    opt_d.zero_grad()\n",
        "    b = real.size(0)\n",
        "\n",
        "\n",
        "    real_logits = D(real)\n",
        "    real_labels = torch.ones(b, 1, device=device)\n",
        "    real_loss = criterion(real_logits, real_labels)\n",
        "\n",
        "    z = torch.randn(b, z_dim, 1, 1, device=device)\n",
        "    fake = G(z).detach()\n",
        "    fake_logits = D(fake)\n",
        "    fake_labels = torch.zeros(b, 1, device=device)\n",
        "    fake_loss = criterion(fake_logits, fake_labels)\n",
        "\n",
        "    d_loss = real_loss + fake_loss\n",
        "    d_loss.backward()\n",
        "    opt_d.step()\n",
        "    return d_loss.item()\n",
        "\n",
        "    raise NotImplementedError()\n",
        "\n",
        "def train_generator_step(b):\n",
        "    # TODO: non-saturating G loss\n",
        "    opt_g.zero_grad()\n",
        "    z = torch.randn(b, z_dim, 1, 1, device=device)\n",
        "    fake = G(z)\n",
        "    logits = D(fake)\n",
        "    labels = torch.ones(b, 1, device=device)\n",
        "    g_loss = criterion(logits, labels)\n",
        "    g_loss.backward()\n",
        "    opt_g.step()\n",
        "    return g_loss.item()\n",
        "    raise NotImplementedError()"
      ],
      "id": "TgQVI_LBONus"
    },
    {
      "cell_type": "code",
      "source": [
        "from tqdm import tqdm\n",
        "import matplotlib.pyplot as plt\n",
        "\n",
        "for epoch in range(num_epochs):\n",
        "    pbar=tqdm(train_loader)\n",
        "    for real,_ in pbar:\n",
        "        real=real.to(device)\n",
        "        d=train_discriminator_step(real)\n",
        "        g=train_generator_step(real.size(0))\n",
        "        pbar.set_postfix(d_loss=d,g_loss=g)"
      ],
      "metadata": {
        "colab": {
          "base_uri": "https://localhost:8080/"
        },
        "id": "ZCQDKr72bXol",
        "outputId": "6e9c576f-ea16-4d50-9413-feb8afeae154"
      },
      "id": "ZCQDKr72bXol",
      "execution_count": 7,
      "outputs": [
        {
          "output_type": "stream",
          "name": "stderr",
          "text": [
            "100%|██████████| 469/469 [00:16<00:00, 28.64it/s, d_loss=0.651, g_loss=1.28]\n",
            "100%|██████████| 469/469 [00:15<00:00, 30.47it/s, d_loss=0.569, g_loss=1.44]\n",
            "100%|██████████| 469/469 [00:16<00:00, 29.20it/s, d_loss=0.578, g_loss=1.27]\n"
          ]
        }
      ]
    }
  ],
  "metadata": {
    "kernelspec": {
      "name": "python3",
      "display_name": "Python 3"
    },
    "colab": {
      "provenance": [],
      "gpuType": "T4"
    },
    "accelerator": "GPU"
  },
  "nbformat": 4,
  "nbformat_minor": 5
}
