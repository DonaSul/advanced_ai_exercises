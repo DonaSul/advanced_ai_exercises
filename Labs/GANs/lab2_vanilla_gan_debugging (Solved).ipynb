{
  "cells": [
    {
      "cell_type": "markdown",
      "metadata": {
        "id": "1QXMaKguN8q9"
      },
      "source": [
        "# Lab 2: Debug a Broken Vanilla GAN (find 12+ issues)"
      ],
      "id": "1QXMaKguN8q9"
    },
    {
      "cell_type": "code",
      "metadata": {
        "colab": {
          "base_uri": "https://localhost:8080/"
        },
        "id": "kSnYHqYRN8rA",
        "outputId": "f9e508ed-0dbc-40f1-be5a-7fc8c0ee2538"
      },
      "execution_count": 1,
      "outputs": [
        {
          "output_type": "stream",
          "name": "stderr",
          "text": [
            "100%|██████████| 9.91M/9.91M [00:00<00:00, 16.1MB/s]\n",
            "100%|██████████| 28.9k/28.9k [00:00<00:00, 484kB/s]\n",
            "100%|██████████| 1.65M/1.65M [00:00<00:00, 4.47MB/s]\n",
            "100%|██████████| 4.54k/4.54k [00:00<00:00, 8.43MB/s]\n"
          ]
        }
      ],
      "source": [
        "import torch, torchvision, torch.nn as nn\n",
        "from torch.utils.data import DataLoader\n",
        "from torchvision import transforms\n",
        "\n",
        "device=torch.device('cuda' if torch.cuda.is_available() else 'cpu')\n",
        "transform=transforms.Compose([transforms.ToTensor(), transforms.Normalize((0.5,), (0.5,))])  # BUG normalize -donee\n",
        "loader=DataLoader(torchvision.datasets.MNIST('./data',True,download=True,transform=transform),batch_size=256,shuffle=True,num_workers=2,pin_memory=True)\n",
        "z_dim=100; g_lr=2e-4; d_lr=2e-4\n",
        "class D(nn.Module):\n",
        "    def __init__(self):\n",
        "        super().__init__(); self.net=nn.Sequential(nn.Conv2d(1,32,4,2,1),nn.LeakyReLU(0.2,True),nn.Conv2d(32,64,4,2,1),nn.BatchNorm2d(64),nn.LeakyReLU(0.2,True),nn.Conv2d(64,1,7,1,0))\n",
        "    def forward(self,x):return self.net(x).view(x.size(0),1)\n",
        "class G(nn.Module):\n",
        "    def __init__(self):\n",
        "        super().__init__(); self.net=nn.Sequential(nn.ConvTranspose2d(z_dim,128,7,1,0),nn.BatchNorm2d(128),nn.ReLU(True),nn.ConvTranspose2d(128,64,4,2,1),nn.BatchNorm2d(64),nn.ReLU(True),nn.ConvTranspose2d(64,1,4,2,1), nn.Tanh())  # BUG missing Tanh --donne\n",
        "    def forward(self,z): z=z.view(z.size(0),z_dim,1,1); return self.net(z)  # BUG reshape - donnee\n",
        "Dnet=D().to(device); Gnet=G().to(device)\n",
        "crit=nn.BCEWithLogitsLoss(); opt_d=torch.optim.Adam(Dnet.parameters(),lr=d_lr,betas=(0.5,0.999)); opt_g=torch.optim.Adam(Gnet.parameters(),lr=g_lr,betas=(0.5,0.999))"
      ],
      "id": "kSnYHqYRN8rA"
    },
    {
      "cell_type": "code",
      "metadata": {
        "colab": {
          "base_uri": "https://localhost:8080/"
        },
        "id": "Kfr18orXN8rG",
        "outputId": "ab54ef67-25f9-4aab-b788-0c9551ae0d3e"
      },
      "execution_count": 2,
      "outputs": [
        {
          "output_type": "stream",
          "name": "stderr",
          "text": [
            "100%|██████████| 235/235 [00:14<00:00, 16.57it/s]"
          ]
        },
        {
          "output_type": "stream",
          "name": "stdout",
          "text": [
            "Now fix all the issues.\n"
          ]
        },
        {
          "output_type": "stream",
          "name": "stderr",
          "text": [
            "\n"
          ]
        }
      ],
      "source": [
        "from tqdm import tqdm\n",
        "for real,_ in tqdm(loader):\n",
        "    real=real.to(device); b=real.size(0)\n",
        "    opt_d.zero_grad()\n",
        "\n",
        "    z=torch.randn(b,z_dim,device=device)\n",
        "    fake=Gnet(z.view(b,z_dim,1,1)).detach()\n",
        "\n",
        "    loss_d_real = crit(Dnet(real), torch.ones(b, 1, device=device))\n",
        "    loss_d_fake = crit(Dnet(fake), torch.zeros(b, 1, device=device))\n",
        "    loss_d = loss_d_real + loss_d_fake\n",
        "\n",
        "    loss_d.backward()\n",
        "    opt_d.step()\n",
        "\n",
        "    opt_g.zero_grad()\n",
        "    z = torch.randn(b, z_dim, device=device)\n",
        "    fake = Gnet(z.view(b, z_dim, 1, 1))\n",
        "\n",
        "    loss_g = crit(Dnet(fake), torch.ones(b, 1, device=device))\n",
        "\n",
        "    loss_g.backward()\n",
        "    opt_g.step()\n",
        "print('Now fix all the issues.')"
      ],
      "id": "Kfr18orXN8rG"
    }
  ],
  "metadata": {
    "kernelspec": {
      "name": "python3",
      "display_name": "Python 3"
    },
    "colab": {
      "provenance": [],
      "gpuType": "T4"
    },
    "accelerator": "GPU"
  },
  "nbformat": 4,
  "nbformat_minor": 5
}
